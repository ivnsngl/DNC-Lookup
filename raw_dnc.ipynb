{
 "cells": [
  {
   "cell_type": "code",
   "execution_count": null,
   "metadata": {},
   "outputs": [],
   "source": [
    "# Imports\n",
    "import pandas as pd\n",
    "import numpy as np\n",
    "import duckdb"
   ]
  },
  {
   "cell_type": "code",
   "execution_count": null,
   "metadata": {},
   "outputs": [],
   "source": [
    "# Load dnc file and raw file\n",
    "dnc_df = duckdb.read_parquet('output/DNC/dnc_list_final.parquet').df()\n",
    "raw_df = duckdb.read_csv('dataset/RAW/JAS233_JBT.csv', normalize_names=True).df()"
   ]
  },
  {
   "cell_type": "code",
   "execution_count": null,
   "metadata": {},
   "outputs": [],
   "source": [
    "# Convert phone to int\n",
    "raw_df['work_phone'] = raw_df['work_phone'].astype(np.int64)"
   ]
  },
  {
   "cell_type": "code",
   "execution_count": null,
   "metadata": {},
   "outputs": [],
   "source": [
    "# Checks if Phone from RAW file is in DNC list\n",
    "is_dnc = duckdb.sql(\"\"\"\n",
    "    SELECT DISTINCT a.*,\n",
    "        CASE\n",
    "            WHEN b.value IS NOT NULL THEN 'Yes' ELSE 'No'\n",
    "        END AS is_dnc\n",
    "    FROM raw_df a\n",
    "    LEFT JOIN dnc_df b on a.work_phone = b.value\n",
    "\"\"\").df()"
   ]
  },
  {
   "cell_type": "code",
   "execution_count": null,
   "metadata": {},
   "outputs": [],
   "source": [
    "# Export to Excel\n",
    "duckdb.sql(\"\"\"\n",
    "    INSTALL spatial;\n",
    "    LOAD spatial;\n",
    "                  \n",
    "    COPY is_dnc TO 'output/jas233_jbt_cleaned_is_dnc.xlsx' WITH (FORMAT GDAL, DRIVER 'xlsx')\n",
    "\"\"\")"
   ]
  },
  {
   "cell_type": "code",
   "execution_count": null,
   "metadata": {},
   "outputs": [],
   "source": [
    "# Report Summary\n",
    "\n",
    "# Counts\n",
    "total_leads = is_dnc.shape[0]\n",
    "unique = is_dnc[\"work_phone\"].nunique()\n",
    "dupes = total_leads - unique\n",
    "dnc_count = is_dnc[\"is_dnc\"].value_counts().get(\"Yes\", 0)\n",
    "good_leads = is_dnc[\"is_dnc\"].value_counts().get(\"No\", 0)\n",
    "\n",
    "# Percentages, 2 decimal places\n",
    "total_leads_percentage = f\"{round((total_leads / total_leads) * 100, 2)}%\"\n",
    "unique_percentage = f\"{round((unique / total_leads) * 100, 2)}%\"\n",
    "dupes_percentage = f\"{round((dupes / total_leads) * 100, 2)}%\"\n",
    "dnc_count_percentage = f\"{round((dnc_count / total_leads) * 100, 2)}%\"\n",
    "good_leads_percentage = f\"{round((good_leads / total_leads) * 100, 2)}%\"\n",
    "\n",
    "# List of lists\n",
    "report = [[\"Total Leads\", total_leads, total_leads_percentage], \n",
    "          ['Unique', unique, unique_percentage],\n",
    "          ['Duplicates', dupes, dupes_percentage],\n",
    "          ['DNC', dnc_count, dnc_count_percentage],\n",
    "          ['Good Leads', good_leads, good_leads_percentage]]\n",
    "\n",
    "# Create df\n",
    "report_df = pd.DataFrame(report, columns=['Description', 'Count', 'Percentage'])\n",
    "report_df"
   ]
  },
  {
   "cell_type": "code",
   "execution_count": null,
   "metadata": {},
   "outputs": [],
   "source": [
    "# Export report\n",
    "duckdb.sql(\"\"\"\n",
    "    INSTALL spatial;\n",
    "    LOAD spatial;\n",
    "                  \n",
    "    COPY report_df TO 'output/jas233_jbt_report.xlsx' WITH (FORMAT GDAL, DRIVER 'xlsx')\n",
    "\"\"\")"
   ]
  }
 ],
 "metadata": {
  "kernelspec": {
   "display_name": "venv",
   "language": "python",
   "name": "python3"
  },
  "language_info": {
   "codemirror_mode": {
    "name": "ipython",
    "version": 3
   },
   "file_extension": ".py",
   "mimetype": "text/x-python",
   "name": "python",
   "nbconvert_exporter": "python",
   "pygments_lexer": "ipython3",
   "version": "3.11.5"
  },
  "orig_nbformat": 4
 },
 "nbformat": 4,
 "nbformat_minor": 2
}
