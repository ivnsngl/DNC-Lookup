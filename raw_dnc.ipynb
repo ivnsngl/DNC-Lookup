{
 "cells": [
  {
   "cell_type": "code",
   "execution_count": null,
   "metadata": {},
   "outputs": [],
   "source": [
    "# Imports\n",
    "import pandas as pd\n",
    "import numpy as np\n",
    "import duckdb"
   ]
  },
  {
   "cell_type": "code",
   "execution_count": null,
   "metadata": {},
   "outputs": [],
   "source": [
    "# Load data\n",
    "dnc_df = duckdb.read_parquet('output/DNC/dnc_list_final.parquet').df()\n",
    "raw_df = duckdb.read_csv('dataset/RAW/JAS233_JBT.csv', normalize_names=True).df()"
   ]
  },
  {
   "cell_type": "code",
   "execution_count": null,
   "metadata": {},
   "outputs": [],
   "source": [
    "# Convert phone to int\n",
    "raw_df['work_phone'] = raw_df['work_phone'].astype(np.int64)"
   ]
  },
  {
   "cell_type": "code",
   "execution_count": null,
   "metadata": {},
   "outputs": [],
   "source": [
    "# Checks if Phone from RAW file is in DNC list\n",
    "is_dnc = duckdb.sql(\"\"\"\n",
    "    SELECT DISTINCT a.*,\n",
    "        CASE\n",
    "            WHEN b.value IS NOT NULL THEN 'Yes' ELSE 'No'\n",
    "        END AS is_dnc\n",
    "    FROM raw_df a\n",
    "    LEFT JOIN dnc_df b on a.work_phone = b.value\n",
    "\"\"\").df()\n",
    "\n",
    "is_dnc.tail(3)"
   ]
  },
  {
   "cell_type": "code",
   "execution_count": null,
   "metadata": {},
   "outputs": [],
   "source": [
    "# Export to Excel\n",
    "duckdb.sql(\"\"\"\n",
    "    INSTALL spatial;\n",
    "    LOAD spatial;\n",
    "                  \n",
    "    COPY is_dnc TO 'output/jas233_jbt_cleaned_copy.xlsx' WITH (FORMAT GDAL, DRIVER 'xlsx')\n",
    "\"\"\")"
   ]
  }
 ],
 "metadata": {
  "kernelspec": {
   "display_name": "venv",
   "language": "python",
   "name": "python3"
  },
  "language_info": {
   "codemirror_mode": {
    "name": "ipython",
    "version": 3
   },
   "file_extension": ".py",
   "mimetype": "text/x-python",
   "name": "python",
   "nbconvert_exporter": "python",
   "pygments_lexer": "ipython3",
   "version": "3.11.5"
  },
  "orig_nbformat": 4
 },
 "nbformat": 4,
 "nbformat_minor": 2
}
