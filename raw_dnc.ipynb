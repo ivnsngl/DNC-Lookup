{
 "cells": [
  {
   "cell_type": "code",
   "execution_count": null,
   "metadata": {},
   "outputs": [],
   "source": [
    "# Imports\n",
    "import pandas as pd\n",
    "import numpy as np\n",
    "import duckdb"
   ]
  },
  {
   "cell_type": "code",
   "execution_count": null,
   "metadata": {},
   "outputs": [],
   "source": [
    "# Load data\n",
    "df1 = duckdb.sql(\"\"\"\n",
    "    SELECT *\n",
    "    FROM read_csv_auto('dataset/dnc_list_final.csv')\n",
    "\"\"\").df()\n",
    "\n",
    "df2 = duckdb.sql(\"\"\"\n",
    "    SELECT *\n",
    "    FROM read_csv_auto('dataset/RAW/JAS233_JBT.csv', normalize_names=True)\n",
    "\"\"\").df()"
   ]
  },
  {
   "cell_type": "code",
   "execution_count": null,
   "metadata": {},
   "outputs": [],
   "source": [
    "# Convert phone to int\n",
    "df2['work_phone'] = df2['work_phone'].astype(np.int64)"
   ]
  },
  {
   "cell_type": "code",
   "execution_count": null,
   "metadata": {},
   "outputs": [],
   "source": [
    "# Checks if Phone from RAW file is in DNC list\n",
    "is_dnc = duckdb.sql(\"\"\"\n",
    "    SELECT DISTINCT a.*,\n",
    "        CASE\n",
    "            WHEN b.value IS NOT NULL THEN 'Yes' ELSE 'No'\n",
    "        END AS is_dnc\n",
    "    FROM df2 a\n",
    "    LEFT JOIN df1 b on a.work_phone = b.value\n",
    "\"\"\").df()\n",
    "\n",
    "is_dnc.tail(3)"
   ]
  },
  {
   "cell_type": "code",
   "execution_count": null,
   "metadata": {},
   "outputs": [],
   "source": [
    "# Export\n",
    "duckdb.sql(\"\"\"\n",
    "    COPY is_dnc TO 'output/jas233_jbt_cleaned.csv' (HEADER 1, DELIMITER ',')\n",
    "\"\"\")"
   ]
  }
 ],
 "metadata": {
  "kernelspec": {
   "display_name": "venv",
   "language": "python",
   "name": "python3"
  },
  "language_info": {
   "codemirror_mode": {
    "name": "ipython",
    "version": 3
   },
   "file_extension": ".py",
   "mimetype": "text/x-python",
   "name": "python",
   "nbconvert_exporter": "python",
   "pygments_lexer": "ipython3",
   "version": "3.11.5"
  },
  "orig_nbformat": 4
 },
 "nbformat": 4,
 "nbformat_minor": 2
}
