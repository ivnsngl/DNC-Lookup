{
 "cells": [
  {
   "cell_type": "code",
   "execution_count": null,
   "metadata": {},
   "outputs": [],
   "source": [
    "# Imports\n",
    "import pandas as pd\n",
    "import numpy as np\n",
    "import duckdb"
   ]
  },
  {
   "cell_type": "code",
   "execution_count": null,
   "metadata": {},
   "outputs": [],
   "source": [
    "# DuckDB connection\n",
    "conn = duckdb.connect()"
   ]
  },
  {
   "cell_type": "code",
   "execution_count": null,
   "metadata": {},
   "outputs": [],
   "source": [
    "# Load dnc source files\n",
    "df1 = conn.execute(\"\"\"\n",
    "    SELECT *\n",
    "    FROM read_csv_auto('dataset/*.csv')\n",
    "\"\"\").df()\n",
    "\n",
    "df2 = conn.execute(\"\"\"\n",
    "    SELECT *\n",
    "    FROM read_csv_auto('dataset/DNC5/DNC5.csv')\n",
    "\"\"\").df()"
   ]
  },
  {
   "cell_type": "code",
   "execution_count": null,
   "metadata": {},
   "outputs": [],
   "source": [
    "# Convert multiple columns into single column\n",
    "melted_df1 = df1.melt()\n",
    "melted_df2 = df2.melt()\n",
    "\n",
    "dropped_column1 = melted_df1.drop(['variable'], axis=1)\n",
    "dropped_column2 = melted_df2.drop(['variable'], axis=1)"
   ]
  },
  {
   "cell_type": "code",
   "execution_count": null,
   "metadata": {},
   "outputs": [],
   "source": [
    "# Merge two dataframes/DNC\n",
    "dnc = pd.concat([dropped_column1, dropped_column2], ignore_index=True)"
   ]
  },
  {
   "cell_type": "code",
   "execution_count": null,
   "metadata": {},
   "outputs": [],
   "source": [
    "# Update data type to int\n",
    "dnc['value'] = dnc['value'].fillna(0)\n",
    "dnc['value'] = dnc['value'].astype(np.int64)"
   ]
  },
  {
   "cell_type": "code",
   "execution_count": null,
   "metadata": {},
   "outputs": [],
   "source": [
    "# Export to csv\n",
    "conn.execute(\"\"\"\n",
    "    COPY dnc TO 'dnc_list_final.csv' (DELIMITER ',')\n",
    "\"\"\").df()"
   ]
  }
 ],
 "metadata": {
  "kernelspec": {
   "display_name": "venv",
   "language": "python",
   "name": "python3"
  },
  "language_info": {
   "codemirror_mode": {
    "name": "ipython",
    "version": 3
   },
   "file_extension": ".py",
   "mimetype": "text/x-python",
   "name": "python",
   "nbconvert_exporter": "python",
   "pygments_lexer": "ipython3",
   "version": "3.11.5"
  },
  "orig_nbformat": 4
 },
 "nbformat": 4,
 "nbformat_minor": 2
}
